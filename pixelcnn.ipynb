{
 "cells": [
  {
   "cell_type": "markdown",
   "metadata": {},
   "source": [
    "# **<span style=\"color: #87CEEB;\"> Pixel CNN</span>**\n",
    "# <span style=\"color: #9370DB;\">**Deep Learning 2025**</span>"
   ]
  },
  {
   "cell_type": "markdown",
   "metadata": {},
   "source": [
    "# PixelCNN Implementation using Pytorch <span style=\"color: #9370DB;\"></span></b></h1> "
   ]
  },
  {
   "cell_type": "markdown",
   "metadata": {},
   "source": [
    "## **Introduction**\n",
    "This project explores **PixelCNN**, a deep learning model designed for **generating images pixel-by-pixel** using **autoregressive modeling**. We apply this model to the **MNIST dataset**, which consists of handwritten digits, to understand how PixelCNN learns pixel dependencies and generates realistic digit images.\n",
    "\n",
    "## **Objectives**\n",
    "- Implement **PixelCNN** using TensorFlow/Keras.  \n",
    "- Preprocess the **MNIST dataset** for binary pixel values.  \n",
    "- Define custom **Pixel Convolutional Layers** and **Residual Blocks**.  \n",
    "- Train the model to **generate images sequentially pixel by pixel**.  \n",
    "- Evaluate model performance and visualize generated images.  \n",
    "\n",
    "## **Dataset**\n",
    "The **MNIST dataset** contains:\n",
    "- **60,000 training images**  \n",
    "- **10,000 testing images**  \n",
    "Each image is **28×28 pixels** and represents a digit from **0 to 9**."
   ]
  },
  {
   "cell_type": "markdown",
   "metadata": {},
   "source": [
    "### Import Necessary Libraries"
   ]
  },
  {
   "cell_type": "code",
   "execution_count": null,
   "metadata": {},
   "outputs": [],
   "source": [
    "import numpy as np\n",
    "import matplotlib.pyplot as plt\n",
    "import pandas as pd\n",
    "import seaborn as sns\n",
    "# import tensorflow\n",
    "# from tensorflow.keras.datasets import mnist\n",
    "from IPython.display import Image, display\n",
    "from tqdm import tqdm_notebook\n",
    "from torchsummary import summary\n",
    "\n",
    "\n",
    "# I have used pytorch for this project instead of tensorflow\n",
    "from torch.utils.data import DataLoader, random_split\n",
    "import torch\n",
    "import torch.nn as nn\n",
    "import torch.optim as optim\n",
    "import torch.nn.functional as F\n",
    "from torchvision import datasets, transforms"
   ]
  },
  {
   "cell_type": "markdown",
   "metadata": {},
   "source": [
    "### Visualize the Dataset"
   ]
  },
  {
   "cell_type": "code",
   "execution_count": null,
   "metadata": {},
   "outputs": [
    {
     "name": "stdout",
     "output_type": "stream",
     "text": [
      "Training data shape (raw): torch.Size([60000, 28, 28])\n",
      "Testing data shape (raw): torch.Size([10000, 28, 28])\n"
     ]
    },
    {
     "data": {
      "image/png": "[encoded data removed]",
      "text/plain": [
       "<Figure size 400x400 with 4 Axes>"
      ]
     },
     "metadata": {},
     "output_type": "display_data"
    }
   ],
   "source": [
    "def load_and_plot(num_samples):\n",
    "    \"\"\"\n",
    "    Load the MNIST dataset, print the dataset shapes, and plot a grid of random images from the training set.\n",
    "\n",
    "    Parameters:\n",
    "    num_samples (int): Number of images to plot in a grid.\n",
    "    \"\"\"\n",
    "    transform = transforms.Compose([\n",
    "    transforms.ToTensor(),\n",
    "    lambda x: (x > 0.5).float()\n",
    "    ])\n",
    "\n",
    "    train_dataset = datasets.MNIST(root='./data', train=True, download=True, transform=transform)\n",
    "    test_dataset = datasets.MNIST(root='./data', train=False, download=True, transform=transform)\n",
    "    print(\"Training data shape (raw):\", train_dataset.data.shape)\n",
    "    print(\"Testing data shape (raw):\", test_dataset.data.shape)\n",
    "\n",
    "    indices = np.random.choice(len(train_dataset), num_samples, replace=False)\n",
    "    images = [train_dataset[i][0].squeeze() for i in indices]\n",
    "\n",
    "    grid_size = int(np.sqrt(num_samples))\n",
    "    fig, axes = plt.subplots(grid_size, grid_size, figsize=(grid_size * 2, grid_size * 2))\n",
    "\n",
    "    for ax, img in zip(axes.flatten(), images):\n",
    "        ax.imshow(img, cmap='gray')\n",
    "        ax.axis('off')\n",
    "\n",
    "    plt.tight_layout()\n",
    "    plt.show()\n",
    "\n",
    "load_and_plot(num_samples=4)\n"
   ]
  },
  {
   "cell_type": "markdown",
   "metadata": {},
   "source": [
    "### Preprocess the Dataset  \n",
    "\n",
    "- Apply **binarization** to the images: Convert pixel values to either 0 or 1 based on a chosen threshold.  \n",
    "- Convert the dataset to **float32** for compatibility with the model.  \n",
    "- Reshape the dataset to include a **single channel** for grayscale images.  \n",
    "- Print the **shapes** of the training and testing datasets to verify the preprocessing steps.  \n"
   ]
  },
  {
   "cell_type": "code",
   "execution_count": null,
   "metadata": {},
   "outputs": [
    {
     "name": "stdout",
     "output_type": "stream",
     "text": [
      "Using MPS device\n",
      "Raw training data shape: torch.Size([60000, 28, 28])\n",
      "Raw testing data shape: torch.Size([10000, 28, 28])\n",
      "Processed sample image shape: torch.Size([1, 28, 28])\n"
     ]
    }
   ],
   "source": [
    "if torch.backends.mps.is_available():\n",
    "    device = torch.device(\"mps\")\n",
    "    print(\"Using MPS device\")\n",
    "else:\n",
    "    device = torch.device(\"cuda\" if torch.cuda.is_available() else \"cpu\")\n",
    "    print(\"Using\", device)\n",
    "\n",
    "transform = transforms.Compose([\n",
    "    transforms.ToTensor(),\n",
    "    lambda x: (x > 0.5).float()\n",
    "])\n",
    "\n",
    "train_dataset = datasets.MNIST(root='./data', train=True, download=True, transform=transform)\n",
    "test_dataset  = datasets.MNIST(root='./data', train=False, download=True, transform=transform)\n",
    "\n",
    "print(\"Raw training data shape:\", train_dataset.data.shape)\n",
    "print(\"Raw testing data shape:\", test_dataset.data.shape)\n",
    "\n",
    "sample_image, sample_label = train_dataset[0]\n",
    "print(\"Processed sample image shape:\", sample_image.shape)\n",
    "\n",
    "train_size = int(0.9 * len(train_dataset))\n",
    "val_size = len(train_dataset) - train_size\n",
    "train_dataset1, val_dataset = random_split(train_dataset, [train_size, val_size])\n",
    "\n",
    "batch_size = 64\n",
    "train_loader = DataLoader(train_dataset1, batch_size=batch_size, shuffle=True)\n",
    "val_loader   = DataLoader(val_dataset, batch_size=batch_size, shuffle=False)\n"
   ]
  },
  {
   "cell_type": "markdown",
   "metadata": {},
   "source": [
    "### Implement `PixelConv` Class\n",
    "\n",
    "1. **Initialize the Layer:**  \n",
    "   - Define a convolutional layer with the given parameters.  \n",
    "   - Store the mask type ('A' or 'B') as an instance variable.  \n",
    "\n",
    "2. **Create a Mask in the `setup_layer` Method:**  \n",
    "   - Generate a mask matrix that ensures autoregressive pixel dependencies.  \n",
    "   - Implement different masking rules for **Mask Type A and Mask Type B**.  \n",
    "\n",
    "3. **Apply the Mask in the `apply_mask` Method:**  \n",
    "   - Multiply the convolution kernel with the mask before computing outputs.  \n",
    "   - Ensure the layer respects the masked constraints during forward pass.  \n"
   ]
  },
  {
   "cell_type": "code",
   "execution_count": null,
   "metadata": {},
   "outputs": [],
   "source": [
    "class PixelConv(nn.Module):\n",
    "    def __init__(self, mask_type, **kwargs):\n",
    "        super(PixelConv, self).__init__()\n",
    "        self.mask_type = mask_type\n",
    "        self.conv = nn.Conv2d(**kwargs)\n",
    "        kernel_size = kwargs.get(\"kernel_size\", 3)\n",
    "        self.kernel_size = kernel_size if isinstance(kernel_size, tuple) else (kernel_size, kernel_size)\n",
    "        # put in register not a trainable parameter so no updates needed during backprop\n",
    "        self.register_buffer('mask', self.setup_layer(self.conv.weight.shape))\n",
    "\n",
    "    def setup_layer(self, input_shape):\n",
    "        kH, kW = self.kernel_size\n",
    "        mask = torch.ones_like(self.conv.weight)\n",
    "        center_h = kH // 2\n",
    "        center_w = kW // 2\n",
    "        mask[:, :, center_h+1:, :] = 0\n",
    "        mask[:, :, center_h, center_w+1:] = 0\n",
    "        if self.mask_type == 'A':\n",
    "            mask[:, :, center_h, center_w] = 0\n",
    "        return mask\n",
    "\n",
    "    def apply_mask(self):\n",
    "        self.conv.weight.data *= self.mask"
   ]
  },
  {
   "cell_type": "markdown",
   "metadata": {},
   "source": [
    "### Implement a Residual Block for PixelCNN\n",
    "\n",
    "A residual block helps improve training stability and allows better gradient flow by adding shortcut connections. In this class, you will define a residual block using convolutional layers and a masked convolution.\n",
    "\n",
    "### Steps to Implement:\n",
    "\n",
    "1. **Initialize the Layers**  \n",
    "   - Define convolutional layers and a masked convolutional layer.  \n",
    "   - Ensure the masked convolution follows the correct masking strategy.  \n",
    "\n",
    "2. **Forward Pass**  \n",
    "   - Pass the input through the layers sequentially.  \n",
    "   - Implement the residual connection by combining the input and output.  "
   ]
  },
  {
   "cell_type": "code",
   "execution_count": null,
   "metadata": {},
   "outputs": [],
   "source": [
    "class ResidualBlock(nn.Module):\n",
    "    def __init__(self, filters, **kwargs):\n",
    "        super(ResidualBlock, self).__init__(**kwargs)\n",
    "        # your code here\n",
    "        self.conv1 = nn.Conv2d(filters, filters, kernel_size=1, stride=1, padding=0)\n",
    "        self.masked_conv = PixelConv(mask_type='B',in_channels=filters,out_channels=filters,kernel_size=3,padding=1)\n",
    "        self.conv2 = nn.Conv2d(filters, filters, kernel_size=1, stride=1, padding=0)\n",
    "        self.activation = nn.ReLU()\n",
    "\n",
    "    def forward(self, inputs):\n",
    "        # your code here\n",
    "        out = self.activation(inputs)\n",
    "        out = self.conv1(out)\n",
    "        out = self.activation(out)\n",
    "        self.masked_conv.apply_mask()\n",
    "        out = self.masked_conv.conv(out)\n",
    "        out = self.activation(out)\n",
    "        out = self.conv2(out)\n",
    "        return out + inputs\n"
   ]
  },
  {
   "cell_type": "markdown",
   "metadata": {},
   "source": [
    "### Putting it Together\n",
    "\n",
    "Now you will build a PixelCNN model using masked convolutions and residual blocks to model pixel dependencies.\n",
    "\n",
    "### To-Do:\n",
    "1. **Define the input layer** for grayscale images.  \n",
    "2. **Add an initial masked convolution** to process input features.  \n",
    "3. **Stack multiple residual blocks** to refine the learned representations.  \n",
    "4. **Include additional masked convolutions** to further process the data.  \n",
    "5. **Create an output layer** that predicts pixel values.  \n",
    "6. **Ensure the total parameter count remains within 600,000.**  \n",
    "7. **Display a summary** of your model and verify its structure and parameters."
   ]
  },
  {
   "cell_type": "code",
   "execution_count": null,
   "metadata": {},
   "outputs": [],
   "source": [
    "# your code here\n",
    "class PixelCNN(nn.Module):\n",
    "    def __init__(self, num_residual_blocks=5, filters=16):\n",
    "        super(PixelCNN, self).__init__()\n",
    "        self.initial_conv = PixelConv(mask_type='A',in_channels=1,out_channels=filters,kernel_size=7,padding=3)\n",
    "        self.residual_blocks = nn.ModuleList([ResidualBlock(filters=filters) for _ in range(num_residual_blocks)])\n",
    "        self.additional_conv = PixelConv(mask_type='B',in_channels=filters,out_channels=filters,kernel_size=3,padding=1)\n",
    "        self.output_conv = nn.Conv2d(filters, 1, kernel_size=1, stride=1, padding=0)\n",
    "\n",
    "    def forward(self, x):\n",
    "        self.initial_conv.apply_mask()\n",
    "        out = self.initial_conv.conv(x)\n",
    "        for block in self.residual_blocks:\n",
    "            out = block(out)\n",
    "        out = torch.relu(out)\n",
    "        self.additional_conv.apply_mask()\n",
    "        out = self.additional_conv.conv(out)\n",
    "        out = torch.relu(out)\n",
    "        out = self.output_conv(out)\n",
    "        out = torch.sigmoid(out)\n",
    "        return out\n"
   ]
  },
  {
   "cell_type": "code",
   "execution_count": null,
   "metadata": {},
   "outputs": [
    {
     "name": "stdout",
     "output_type": "stream",
     "text": [
      "----------------------------------------------------------------\n",
      "        Layer (type)               Output Shape         Param #\n",
      "================================================================\n",
      "            Conv2d-1           [-1, 64, 28, 28]           3,200\n",
      "              ReLU-2           [-1, 64, 28, 28]               0\n",
      "            Conv2d-3           [-1, 64, 28, 28]           4,160\n",
      "              ReLU-4           [-1, 64, 28, 28]               0\n",
      "            Conv2d-5           [-1, 64, 28, 28]          36,928\n",
      "              ReLU-6           [-1, 64, 28, 28]               0\n",
      "            Conv2d-7           [-1, 64, 28, 28]           4,160\n",
      "     ResidualBlock-8           [-1, 64, 28, 28]               0\n",
      "              ReLU-9           [-1, 64, 28, 28]               0\n",
      "           Conv2d-10           [-1, 64, 28, 28]           4,160\n",
      "             ReLU-11           [-1, 64, 28, 28]               0\n",
      "           Conv2d-12           [-1, 64, 28, 28]          36,928\n",
      "             ReLU-13           [-1, 64, 28, 28]               0\n",
      "           Conv2d-14           [-1, 64, 28, 28]           4,160\n",
      "    ResidualBlock-15           [-1, 64, 28, 28]               0\n",
      "             ReLU-16           [-1, 64, 28, 28]               0\n",
      "           Conv2d-17           [-1, 64, 28, 28]           4,160\n",
      "             ReLU-18           [-1, 64, 28, 28]               0\n",
      "           Conv2d-19           [-1, 64, 28, 28]          36,928\n",
      "             ReLU-20           [-1, 64, 28, 28]               0\n",
      "           Conv2d-21           [-1, 64, 28, 28]           4,160\n",
      "    ResidualBlock-22           [-1, 64, 28, 28]               0\n",
      "             ReLU-23           [-1, 64, 28, 28]               0\n",
      "           Conv2d-24           [-1, 64, 28, 28]           4,160\n",
      "             ReLU-25           [-1, 64, 28, 28]               0\n",
      "           Conv2d-26           [-1, 64, 28, 28]          36,928\n",
      "             ReLU-27           [-1, 64, 28, 28]               0\n",
      "           Conv2d-28           [-1, 64, 28, 28]           4,160\n",
      "    ResidualBlock-29           [-1, 64, 28, 28]               0\n",
      "             ReLU-30           [-1, 64, 28, 28]               0\n",
      "           Conv2d-31           [-1, 64, 28, 28]           4,160\n",
      "             ReLU-32           [-1, 64, 28, 28]               0\n",
      "           Conv2d-33           [-1, 64, 28, 28]          36,928\n",
      "             ReLU-34           [-1, 64, 28, 28]               0\n",
      "           Conv2d-35           [-1, 64, 28, 28]           4,160\n",
      "    ResidualBlock-36           [-1, 64, 28, 28]               0\n",
      "             ReLU-37           [-1, 64, 28, 28]               0\n",
      "           Conv2d-38           [-1, 64, 28, 28]           4,160\n",
      "             ReLU-39           [-1, 64, 28, 28]               0\n",
      "           Conv2d-40           [-1, 64, 28, 28]          36,928\n",
      "             ReLU-41           [-1, 64, 28, 28]               0\n",
      "           Conv2d-42           [-1, 64, 28, 28]           4,160\n",
      "    ResidualBlock-43           [-1, 64, 28, 28]               0\n",
      "             ReLU-44           [-1, 64, 28, 28]               0\n",
      "           Conv2d-45           [-1, 64, 28, 28]           4,160\n",
      "             ReLU-46           [-1, 64, 28, 28]               0\n",
      "           Conv2d-47           [-1, 64, 28, 28]          36,928\n",
      "             ReLU-48           [-1, 64, 28, 28]               0\n",
      "           Conv2d-49           [-1, 64, 28, 28]           4,160\n",
      "    ResidualBlock-50           [-1, 64, 28, 28]               0\n",
      "             ReLU-51           [-1, 64, 28, 28]               0\n",
      "           Conv2d-52           [-1, 64, 28, 28]           4,160\n",
      "             ReLU-53           [-1, 64, 28, 28]               0\n",
      "           Conv2d-54           [-1, 64, 28, 28]          36,928\n",
      "             ReLU-55           [-1, 64, 28, 28]               0\n",
      "           Conv2d-56           [-1, 64, 28, 28]           4,160\n",
      "    ResidualBlock-57           [-1, 64, 28, 28]               0\n",
      "             ReLU-58           [-1, 64, 28, 28]               0\n",
      "           Conv2d-59           [-1, 64, 28, 28]           4,160\n",
      "             ReLU-60           [-1, 64, 28, 28]               0\n",
      "           Conv2d-61           [-1, 64, 28, 28]          36,928\n",
      "             ReLU-62           [-1, 64, 28, 28]               0\n",
      "           Conv2d-63           [-1, 64, 28, 28]           4,160\n",
      "    ResidualBlock-64           [-1, 64, 28, 28]               0\n",
      "             ReLU-65           [-1, 64, 28, 28]               0\n",
      "           Conv2d-66           [-1, 64, 28, 28]           4,160\n",
      "             ReLU-67           [-1, 64, 28, 28]               0\n",
      "           Conv2d-68           [-1, 64, 28, 28]          36,928\n",
      "             ReLU-69           [-1, 64, 28, 28]               0\n",
      "           Conv2d-70           [-1, 64, 28, 28]           4,160\n",
      "    ResidualBlock-71           [-1, 64, 28, 28]               0\n",
      "           Conv2d-72           [-1, 64, 28, 28]          36,928\n",
      "           Conv2d-73            [-1, 1, 28, 28]              65\n",
      "================================================================\n",
      "Total params: 492,673\n",
      "Trainable params: 492,673\n",
      "Non-trainable params: 0\n",
      "----------------------------------------------------------------\n",
      "Input size (MB): 0.00\n",
      "Forward/backward pass size (MB): 27.57\n",
      "Params size (MB): 1.88\n",
      "Estimated Total Size (MB): 29.45\n",
      "----------------------------------------------------------------\n"
     ]
    }
   ],
   "source": [
    "modeltemp = PixelCNN(num_residual_blocks=10, filters=64)\n",
    "modeltemp.to(\"cpu\")\n",
    "summary(modeltemp, (1, 28, 28))"
   ]
  },
  {
   "cell_type": "markdown",
   "metadata": {},
   "source": [
    "### Train your PixelCNN\n",
    "You will now train the PixelCNN model and visualize its performance.\n",
    "\n",
    "### To-Do:\n",
    "1. **Compile the model** with an appropriate optimizer and loss function.  \n",
    "2. **Train the model** for three different epoch settings: **10, 20, and 30**.  \n",
    "3. **Plot the training and validation loss** for all three variations to analyze model performance over epochs."
   ]
  },
  {
   "cell_type": "code",
   "execution_count": null,
   "metadata": {},
   "outputs": [
    {
     "name": "stdout",
     "output_type": "stream",
     "text": [
      "Total trainable parameters: 492673\n",
      "Epoch 1/30 - Train Loss: 0.1056 - Val Loss: 0.0900\n",
      "Epoch 2/30 - Train Loss: 0.0877 - Val Loss: 0.0877\n",
      "Epoch 3/30 - Train Loss: 0.0855 - Val Loss: 0.0851\n",
      "Epoch 4/30 - Train Loss: 0.0841 - Val Loss: 0.0838\n",
      "Epoch 5/30 - Train Loss: 0.0830 - Val Loss: 0.0826\n",
      "Epoch 6/30 - Train Loss: 0.0821 - Val Loss: 0.0821\n",
      "Epoch 7/30 - Train Loss: 0.0815 - Val Loss: 0.0814\n",
      "Epoch 8/30 - Train Loss: 0.0810 - Val Loss: 0.0813\n",
      "Epoch 9/30 - Train Loss: 0.0805 - Val Loss: 0.0807\n",
      "Epoch 10/30 - Train Loss: 0.0801 - Val Loss: 0.0811\n",
      "Epoch 11/30 - Train Loss: 0.0798 - Val Loss: 0.0804\n",
      "Epoch 12/30 - Train Loss: 0.0795 - Val Loss: 0.0802\n",
      "Epoch 13/30 - Train Loss: 0.0792 - Val Loss: 0.0812\n",
      "Epoch 14/30 - Train Loss: 0.0790 - Val Loss: 0.0798\n",
      "Epoch 15/30 - Train Loss: 0.0788 - Val Loss: 0.0796\n",
      "Epoch 16/30 - Train Loss: 0.0786 - Val Loss: 0.0795\n",
      "Epoch 17/30 - Train Loss: 0.0784 - Val Loss: 0.0793\n",
      "Epoch 18/30 - Train Loss: 0.0783 - Val Loss: 0.0792\n",
      "Epoch 19/30 - Train Loss: 0.0780 - Val Loss: 0.0794\n",
      "Epoch 20/30 - Train Loss: 0.0779 - Val Loss: 0.0792\n",
      "Epoch 21/30 - Train Loss: 0.0778 - Val Loss: 0.0793\n",
      "Epoch 22/30 - Train Loss: 0.0776 - Val Loss: 0.0794\n",
      "Epoch 23/30 - Train Loss: 0.0775 - Val Loss: 0.0789\n",
      "Epoch 24/30 - Train Loss: 0.0774 - Val Loss: 0.0792\n",
      "Epoch 25/30 - Train Loss: 0.0773 - Val Loss: 0.0789\n",
      "Epoch 26/30 - Train Loss: 0.0772 - Val Loss: 0.0788\n",
      "Epoch 27/30 - Train Loss: 0.0771 - Val Loss: 0.0790\n",
      "Epoch 28/30 - Train Loss: 0.0770 - Val Loss: 0.0787\n",
      "Epoch 29/30 - Train Loss: 0.0769 - Val Loss: 0.0789\n",
      "Epoch 30/30 - Train Loss: 0.0768 - Val Loss: 0.0788\n"
     ]
    }
   ],
   "source": [
    "model = PixelCNN(num_residual_blocks=10, filters=64)\n",
    "params = sum(p.numel() for p in model.parameters() if p.requires_grad)\n",
    "print(\"Total trainable parameters:\", params)\n",
    "model.to(device)\n",
    "total_epochs = 30\n",
    "checkpoint_epochs = [10, 20, 30]\n",
    "overall_train_losses = []\n",
    "overall_val_losses = {}\n",
    "generated_images = {}\n",
    "criterion = nn.BCELoss()\n",
    "optimizer = optim.Adam(model.parameters(), lr=0.001)\n",
    "\n",
    "def generate_images(model, num_images=4, image_size=(28,28)):\n",
    "    model.eval()\n",
    "    generated = torch.zeros((num_images, 1, image_size[0], image_size[1])).to(device)\n",
    "\n",
    "    for i in range(image_size[0]):\n",
    "        for j in range(image_size[1]):\n",
    "            with torch.no_grad():\n",
    "                preds = model(generated)\n",
    "                pixel_probs = preds[:, 0, i, j]\n",
    "\n",
    "                # outputs = model(generated)\n",
    "                # means = outputs[:, 0, i, j]\n",
    "                # log_vars = outputs[:, 1, i, j]\n",
    "                # stds = torch.exp(0.5 * log_vars)\n",
    "                # sampled = torch.normal(means, stds)\n",
    "\n",
    "                sampled = torch.bernoulli(pixel_probs)\n",
    "                generated[:, 0, i, j] = sampled\n",
    "    return generated.cpu()\n",
    "\n",
    "for epoch in range(total_epochs):\n",
    "    model.train()\n",
    "    running_loss = 0.0\n",
    "    for images, _ in train_loader:\n",
    "        images = images.to(device)\n",
    "        optimizer.zero_grad()\n",
    "        outputs = model(images)\n",
    "        loss = criterion(outputs, images)\n",
    "        loss.backward()\n",
    "        optimizer.step()\n",
    "        running_loss += loss.item() * images.size(0)\n",
    "\n",
    "    epoch_train_loss = running_loss / len(train_loader.dataset)\n",
    "    overall_train_losses.append(epoch_train_loss)\n",
    "\n",
    "    model.eval()\n",
    "    running_val_loss = 0.0\n",
    "    with torch.no_grad():\n",
    "        for images, _ in val_loader:\n",
    "            images = images.to(device)\n",
    "            outputs = model(images)\n",
    "            loss = criterion(outputs, images)\n",
    "            running_val_loss += loss.item() * images.size(0)\n",
    "    epoch_val_loss = running_val_loss / len(val_loader.dataset)\n",
    "    overall_val_losses[epoch+1] = epoch_val_loss\n",
    "\n",
    "    print(f\"Epoch {epoch+1}/{total_epochs} - Train Loss: {epoch_train_loss:.4f} - Val Loss: {epoch_val_loss:.4f}\")\n",
    "\n",
    "    if (epoch+1) in checkpoint_epochs:\n",
    "        gen_imgs = generate_images(model, num_images=4, image_size=(28,28))\n",
    "        generated_images[epoch+1] = gen_imgs"
   ]
  },
  {
   "cell_type": "code",
   "execution_count": null,
   "metadata": {},
   "outputs": [
    {
     "data": {
      "image/png": "[encoded data removed]",
      "text/plain": [
       "<Figure size 800x600 with 1 Axes>"
      ]
     },
     "metadata": {},
     "output_type": "display_data"
    }
   ],
   "source": [
    "plt.figure(figsize=(8, 6))\n",
    "plt.plot(range(1, total_epochs+1), overall_train_losses, label='Train Loss')\n",
    "plt.plot(list(overall_val_losses.keys()), list(overall_val_losses.values()), label='Validation Loss')\n",
    "plt.xlabel(\"Epoch\")\n",
    "plt.ylabel(\"Loss\")\n",
    "plt.title(\"PixelCNN Training & Validation Loss\")\n",
    "plt.legend()\n",
    "plt.grid(True)\n",
    "plt.show()"
   ]
  },
  {
   "cell_type": "markdown",
   "metadata": {},
   "source": [
    "You will generate images pixel by pixel using three different trained PixelCNN models:  \n",
    "- Model trained for **10 epochs**  \n",
    "- Model trained for **20 epochs**  \n",
    "- Model trained for **30 epochs**  \n",
    "\n",
    "Each model will sequentially predict pixel values to generate new images.  \n",
    "\n",
    "### To-Do:  \n",
    "1. **Set up the necessary structure** for image generation.  \n",
    "2. **Leverage the trained model** to infer missing pixel values step by step.  \n",
    "3. **Determine pixel values** based on predictions.  \n",
    "4. **Run the process with different models** and observe the outcomes.  \n",
    "5. **Compare the generated images** to analyze any differences."
   ]
  },
  {
   "cell_type": "code",
   "execution_count": null,
   "metadata": {},
   "outputs": [
    {
     "data": {
      "image/png": "[encoded data removed]",
      "text/plain": [
       "<Figure size 800x200 with 4 Axes>"
      ]
     },
     "metadata": {},
     "output_type": "display_data"
    },
    {
     "data": {
      "image/png": "[encoded data removed]",
      "text/plain": [
       "<Figure size 800x200 with 4 Axes>"
      ]
     },
     "metadata": {},
     "output_type": "display_data"
    },
    {
     "data": {
      "image/png": "[encoded data removed]",
      "text/plain": [
       "<Figure size 800x200 with 4 Axes>"
      ]
     },
     "metadata": {},
     "output_type": "display_data"
    }
   ],
   "source": [
    "def plot_generated_images(images, title):\n",
    "    num_images = images.shape[0]\n",
    "    plt.figure(figsize=(num_images*2, 2))\n",
    "    for i in range(num_images):\n",
    "        plt.subplot(1, num_images, i+1)\n",
    "        plt.imshow(images[i, 0], cmap='gray')\n",
    "        plt.axis('off')\n",
    "    plt.suptitle(title)\n",
    "    plt.show()\n",
    "\n",
    "for epoch in checkpoint_epochs:\n",
    "    plot_generated_images(generated_images[epoch], f\"Generated Images after {epoch} Epochs\")"
   ]
  },
  {
   "cell_type": "markdown",
   "metadata": {},
   "source": [
    "## Reflection Questions  \n",
    "\n",
    "After completing this part, take some time to reflect on the following questions:    \n"
   ]
  },
  {
   "cell_type": "markdown",
   "metadata": {},
   "source": [
    "1. **How do the generated images differ across models trained for 10, 20, and 30 epochs?** What patterns or improvements do you notice with more training? "
   ]
  },
  {
   "cell_type": "markdown",
   "metadata": {},
   "source": [
    "Answer: With fewer epochs , the model’s outputs tend to be less coherent: the digits look incomplete or have extra noise/pixels that don’t form a recognizable shape. By 20 epochs, you can see clearer digit outlines and fewer stray artifacts, although some samples still look warped or incomplete. By 30 epochs, the shapes generally become more defined—digits are more continuous and recognizable. There are still minor deformities, but for the most part, the numbers are distinguishable. In short, longer training usually leads to sharper, more coherent digit shapes and less random noise in the generated images. The generated pixels in the first 10 epoches clearly have a lack of direction since the numbers are pretty much indistiguishable. After 20 though, we can start to tell which number is which further indicating that longer training times lead to better image generation with pixel cnn."
   ]
  },
  {
   "cell_type": "markdown",
   "metadata": {},
   "source": [
    "2. **What role does the masked convolution play in PixelCNN?** How does it influence the way images are generated?"
   ]
  },
  {
   "cell_type": "markdown",
   "metadata": {},
   "source": [
    "Answer: Masked convolution is essential in PixelCNN as it enforces an autoregressive structure by ensuring that each pixel is generated based solely on previously generated pixels. The mask prevents the convolution from accessing \"future\" pixels during training and inference, thereby preserving the correct pixel order. This approach, using Mask A in the initial layer and Mask B in subsequent layers, guarantees that the model learns dependencies only from past pixels, allowing for sequential, pixel-by-pixel image generation without leakage of future information."
   ]
  }
 ],
 "metadata": {
  "kernelspec": {
   "display_name": "Python 3",
   "language": "python",
   "name": "python3"
  },
  "language_info": {
   "codemirror_mode": {
    "name": "ipython",
    "version": 3
   },
   "file_extension": ".py",
   "mimetype": "text/x-python",
   "name": "python",
   "nbconvert_exporter": "python",
   "pygments_lexer": "ipython3",
   "version": "3.10.13"
  }
 },
 "nbformat": 4,
 "nbformat_minor": 2
}
